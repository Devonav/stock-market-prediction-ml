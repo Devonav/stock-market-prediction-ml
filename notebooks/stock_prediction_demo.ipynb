{
 "cells": [
  {
   "cell_type": "markdown",
   "metadata": {},
   "source": [
    "# Stock Price Prediction Demo\n",
    "\n",
    "This notebook demonstrates the complete workflow for stock price prediction using machine learning."
   ]
  },
  {
   "cell_type": "code",
   "execution_count": null,
   "metadata": {},
   "outputs": [],
   "source": [
    "import sys\n",
    "import os\n",
    "sys.path.append('../src')\n",
    "\n",
    "import pandas as pd\n",
    "import numpy as np\n",
    "import matplotlib.pyplot as plt\n",
    "import seaborn as sns\n",
    "\n",
    "from data_collector import StockDataCollector\n",
    "from feature_engineering import FeatureEngineering\n",
    "from ml_models import StockPredictor, compare_models\n",
    "\n",
    "plt.style.use('default')\n",
    "sns.set_palette(\"husl\")"
   ]
  },
  {
   "cell_type": "markdown",
   "metadata": {},
   "source": [
    "## 1. Data Collection\n",
    "\n",
    "Let's start by collecting stock data for a popular stock like Apple (AAPL)."
   ]
  },
  {
   "cell_type": "code",
   "execution_count": null,
   "metadata": {},
   "outputs": [],
   "source": [
    "# Initialize data collector\n",
    "collector = StockDataCollector()\n",
    "\n",
    "# Fetch Apple stock data for the last 2 years\n",
    "symbol = 'AAPL'\n",
    "data = collector.fetch_stock_data(symbol, period='2y', interval='1d')\n",
    "\n",
    "print(f\"Data shape: {data.shape}\")\n",
    "print(f\"Date range: {data.index.min()} to {data.index.max()}\")\n",
    "data.head()"
   ]
  },
  {
   "cell_type": "markdown",
   "metadata": {},
   "source": [
    "## 2. Exploratory Data Analysis"
   ]
  },
  {
   "cell_type": "code",
   "execution_count": null,
   "metadata": {},
   "outputs": [],
   "source": [
    "# Plot stock price over time\n",
    "fig, axes = plt.subplots(2, 2, figsize=(15, 10))\n",
    "\n",
    "# Price chart\n",
    "axes[0, 0].plot(data.index, data['Close'], label='Close Price')\n",
    "axes[0, 0].set_title(f'{symbol} Stock Price')\n",
    "axes[0, 0].set_ylabel('Price ($)')\n",
    "axes[0, 0].legend()\n",
    "\n",
    "# Volume chart\n",
    "axes[0, 1].bar(data.index, data['Volume'], alpha=0.7, color='orange')\n",
    "axes[0, 1].set_title(f'{symbol} Trading Volume')\n",
    "axes[0, 1].set_ylabel('Volume')\n",
    "\n",
    "# Daily returns\n",
    "returns = data['Close'].pct_change().dropna()\n",
    "axes[1, 0].hist(returns, bins=50, alpha=0.7, color='green')\n",
    "axes[1, 0].set_title('Daily Returns Distribution')\n",
    "axes[1, 0].set_xlabel('Daily Return')\n",
    "axes[1, 0].set_ylabel('Frequency')\n",
    "\n",
    "# Price vs Volume scatter\n",
    "axes[1, 1].scatter(data['Volume'], data['Close'], alpha=0.5)\n",
    "axes[1, 1].set_title('Price vs Volume')\n",
    "axes[1, 1].set_xlabel('Volume')\n",
    "axes[1, 1].set_ylabel('Close Price ($)')\n",
    "\n",
    "plt.tight_layout()\n",
    "plt.show()"
   ]
  },
  {
   "cell_type": "markdown",
   "metadata": {},
   "source": [
    "## 3. Feature Engineering\n",
    "\n",
    "Now let's create technical indicators and other features for our machine learning model."
   ]
  },
  {
   "cell_type": "code",
   "execution_count": null,
   "metadata": {},
   "outputs": [],
   "source": [
    "# Initialize feature engineering\n",
    "fe = FeatureEngineering()\n",
    "\n",
    "# Create features for predicting next day's direction (up/down)\n",
    "processed_data = fe.prepare_features(data, target_days=1, target_type='direction')\n",
    "\n",
    "print(f\"Original data shape: {data.shape}\")\n",
    "print(f\"Processed data shape: {processed_data.shape}\")\n",
    "print(f\"Number of features: {processed_data.shape[1] - 1}\")\n",
    "\n",
    "# Show target distribution\n",
    "print(\"\\nTarget Distribution:\")\n",
    "print(processed_data['Target'].value_counts())\n",
    "print(f\"Up days: {processed_data['Target'].mean()*100:.1f}%\")"
   ]
  },
  {
   "cell_type": "markdown",
   "metadata": {},
   "source": [
    "## 4. Model Training and Evaluation\n",
    "\n",
    "Let's train different machine learning models and compare their performance."
   ]
  },
  {
   "cell_type": "code",
   "execution_count": null,
   "metadata": {},
   "outputs": [],
   "source": [
    "# Prepare data for training\n",
    "predictor = StockPredictor()\n",
    "X_train, X_test, y_train, y_test = predictor.prepare_data(processed_data, time_series_split=True)\n",
    "\n",
    "print(f\"Training set size: {X_train.shape[0]}\")\n",
    "print(f\"Test set size: {X_test.shape[0]}\")\n",
    "print(f\"Number of features: {X_train.shape[1]}\")"
   ]
  },
  {
   "cell_type": "code",
   "execution_count": null,
   "metadata": {},
   "outputs": [],
   "source": [
    "# Compare different models\n",
    "results = compare_models(X_train, X_test, y_train, y_test, task_type='classification')\n",
    "\n",
    "# Create a comparison dataframe\n",
    "comparison_df = pd.DataFrame({model: result['metrics'] for model, result in results.items()}).T\n",
    "print(\"\\nModel Comparison:\")\n",
    "print(comparison_df.round(4))"
   ]
  },
  {
   "cell_type": "markdown",
   "metadata": {},
   "source": [
    "## 5. Feature Importance Analysis"
   ]
  },
  {
   "cell_type": "code",
   "execution_count": null,
   "metadata": {},
   "outputs": [],
   "source": [
    "# Get feature importance from Random Forest model\n",
    "rf_model = results['random_forest']['model']\n",
    "feature_importance = rf_model.get_feature_importance(top_n=15)\n",
    "\n",
    "if feature_importance is not None:\n",
    "    # Plot feature importance\n",
    "    plt.figure(figsize=(10, 8))\n",
    "    sns.barplot(data=feature_importance, y='feature', x='importance')\n",
    "    plt.title('Top 15 Most Important Features')\n",
    "    plt.xlabel('Importance')\n",
    "    plt.tight_layout()\n",
    "    plt.show()\n",
    "    \n",
    "    print(\"Top 10 Features:\")\n",
    "    print(feature_importance.head(10))"
   ]
  },
  {
   "cell_type": "markdown",
   "metadata": {},
   "source": [
    "## 6. Model Predictions and Analysis"
   ]
  },
  {
   "cell_type": "code",
   "execution_count": null,
   "metadata": {},
   "outputs": [],
   "source": [
    "# Make predictions on test set\n",
    "best_model = results['random_forest']['model']\n",
    "test_predictions = best_model.predict(processed_data.iloc[-len(X_test):][best_model.feature_columns])\n",
    "test_probabilities = best_model.predict_proba(processed_data.iloc[-len(X_test):][best_model.feature_columns])\n",
    "\n",
    "# Create a results dataframe\n",
    "test_results = pd.DataFrame({\n",
    "    'Date': processed_data.index[-len(X_test):],\n",
    "    'Actual': y_test.values,\n",
    "    'Predicted': test_predictions,\n",
    "    'Probability_Up': test_probabilities[:, 1],\n",
    "    'Close_Price': processed_data['Close'].iloc[-len(X_test):].values\n",
    "})\n",
    "\n",
    "test_results.head(10)"
   ]
  },
  {
   "cell_type": "code",
   "execution_count": null,
   "metadata": {},
   "outputs": [],
   "source": [
    "# Plot predictions vs actual\n",
    "fig, axes = plt.subplots(2, 1, figsize=(15, 10))\n",
    "\n",
    "# Price chart with predictions\n",
    "axes[0].plot(test_results['Date'], test_results['Close_Price'], label='Close Price', color='blue')\n",
    "correct_predictions = test_results[test_results['Actual'] == test_results['Predicted']]\n",
    "wrong_predictions = test_results[test_results['Actual'] != test_results['Predicted']]\n",
    "\n",
    "axes[0].scatter(correct_predictions['Date'], correct_predictions['Close_Price'], \n",
    "                color='green', alpha=0.6, label='Correct Predictions', s=30)\n",
    "axes[0].scatter(wrong_predictions['Date'], wrong_predictions['Close_Price'], \n",
    "                color='red', alpha=0.6, label='Wrong Predictions', s=30)\n",
    "\n",
    "axes[0].set_title('Stock Price with Prediction Accuracy')\n",
    "axes[0].set_ylabel('Price ($)')\n",
    "axes[0].legend()\n",
    "\n",
    "# Prediction confidence\n",
    "axes[1].plot(test_results['Date'], test_results['Probability_Up'], label='Probability of Up Move')\n",
    "axes[1].axhline(y=0.5, color='red', linestyle='--', alpha=0.7, label='Decision Threshold')\n",
    "axes[1].set_title('Model Confidence (Probability of Up Move)')\n",
    "axes[1].set_ylabel('Probability')\n",
    "axes[1].set_xlabel('Date')\n",
    "axes[1].legend()\n",
    "\n",
    "plt.tight_layout()\n",
    "plt.show()\n",
    "\n",
    "# Calculate accuracy\n",
    "accuracy = (test_results['Actual'] == test_results['Predicted']).mean()\n",
    "print(f\"\\nTest Accuracy: {accuracy:.1%}\")"
   ]
  },
  {
   "cell_type": "markdown",
   "metadata": {},
   "source": [
    "## 7. Save the Model\n",
    "\n",
    "Let's save our best performing model for future use."
   ]
  },
  {
   "cell_type": "code",
   "execution_count": null,
   "metadata": {},
   "outputs": [],
   "source": [
    "# Save the best model\n",
    "model_name = f\"{symbol}_direction_predictor\"\n",
    "best_model.save_model(model_name)\n",
    "\n",
    "print(f\"Model saved as: {model_name}\")\n",
    "print(f\"Model accuracy: {results['random_forest']['metrics']['accuracy']:.1%}\")\n",
    "print(f\"Model can be loaded later using: predictor.load_model('{model_name}')\")"
   ]
  },
  {
   "cell_type": "markdown",
   "metadata": {},
   "source": [
    "## 8. Next Steps\n",
    "\n",
    "This demo shows a basic stock prediction workflow. To improve the model, consider:\n",
    "\n",
    "1. **More data**: Use multiple stocks, longer time periods, or higher frequency data\n",
    "2. **Additional features**: \n",
    "   - Economic indicators (GDP, unemployment, interest rates)\n",
    "   - Market sentiment data (VIX, news sentiment)\n",
    "   - Sector/industry specific indicators\n",
    "3. **Advanced models**: \n",
    "   - LSTM/GRU neural networks for sequence modeling\n",
    "   - Transformer models\n",
    "   - Ensemble methods\n",
    "4. **Better evaluation**: \n",
    "   - Walk-forward analysis\n",
    "   - Out-of-sample testing\n",
    "   - Risk-adjusted returns\n",
    "5. **Trading strategy**: \n",
    "   - Transaction costs\n",
    "   - Position sizing\n",
    "   - Risk management rules\n",
    "\n",
    "Remember: Stock prediction is inherently difficult and uncertain. Always validate models thoroughly and consider the limitations of historical data."
   ]
  }
 ],
 "metadata": {
  "kernelspec": {
   "display_name": "Python 3",
   "language": "python",
   "name": "python3"
  },
  "language_info": {
   "codemirror_mode": {
    "name": "ipython",
    "version": 3
   },
   "file_extension": ".py",
   "mimetype": "text/x-python",
   "name": "python",
   "nbconvert_exporter": "python",
   "pygments_lexer": "ipython3",
   "version": "3.9.0"
  }
 },
 "nbformat": 4,
 "nbformat_minor": 4
}